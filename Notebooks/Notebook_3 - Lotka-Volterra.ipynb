{
 "cells": [
  {
   "cell_type": "markdown",
   "metadata": {},
   "source": [
    "# Notebook_3 - Lotka-Volterra Competition"
   ]
  },
  {
   "cell_type": "markdown",
   "metadata": {},
   "source": [
    "### Import needed packages"
   ]
  },
  {
   "cell_type": "code",
   "execution_count": 1,
   "metadata": {},
   "outputs": [],
   "source": [
    "import numpy as np\n",
    "import matplotlib.pyplot as plt\n",
    "# let's set things up so we have nice font sizes\n",
    "plt.rcParams.update({'font.size': 12})"
   ]
  },
  {
   "cell_type": "markdown",
   "metadata": {},
   "source": [
    "### Goals"
   ]
  },
  {
   "cell_type": "markdown",
   "metadata": {},
   "source": [
    "We want to explore numerical solutions to the Lotka Volterra Model\n",
    "$$\\frac{dn_1}{dt} = r_1 n_1(t) \\left(1-\\frac{n_1(t) + {\\color{red}\\alpha_{12}}\\ n_2(t)}{K_1}\\right)$$\n",
    "$$\\frac{dn_2}{dt} = r_2 n_2(t) \\left(1-\\frac{n_2(t) + {\\color{blue}\\alpha_{21}}\\ n_1(t)}{K_2}\\right)$$\n",
    "with the initial conditions\n",
    "$$n_1(0)=a, \\quad n_2(0)=b $$"
   ]
  },
  {
   "cell_type": "markdown",
   "metadata": {},
   "source": [
    "# Euler's Method for two variables"
   ]
  },
  {
   "cell_type": "code",
   "execution_count": 2,
   "metadata": {},
   "outputs": [],
   "source": [
    "def f(n,parameters):\n",
    "    '''\n",
    "    n - vector of variables\n",
    "    parameters - tuple of parameters\n",
    "    \n",
    "    This function returns the values of dn1/dt and dn2/dt\n",
    "    evaluated using the Lotka-Volterra Equations. \n",
    "    '''\n",
    "    r1,r2,K1,K2,alpha12,alpha21 = parameters\n",
    "    n1,n2 = n\n",
    "    dn1 = r1*n1*(1-(n1+alpha12*n2)/K1)\n",
    "    dn2 = r2*n2*(1-(n2+alpha21*n1)/K2)\n",
    "    return np.array([dn1,dn2])"
   ]
  },
  {
   "cell_type": "code",
   "execution_count": 3,
   "metadata": {},
   "outputs": [],
   "source": [
    "def forward_euler_step(t,n,f,h,parameters):\n",
    "    '''\n",
    "    t - current time \n",
    "    n - current vector of variables\n",
    "    f - function to compute derivatives\n",
    "    h - step size (should be small)\n",
    "    parameters - parameters passed into the ODEs in function f\n",
    "    \n",
    "    This function takes a single Forward Euler Method step\n",
    "    '''\n",
    "    n_next = n + h * f(n,parameters)\n",
    "    t_next = t + h\n",
    "    return t_next,n_next"
   ]
  },
  {
   "cell_type": "code",
   "execution_count": 4,
   "metadata": {},
   "outputs": [],
   "source": [
    "def ode_solve(f,t0,n0,tf,parameters):\n",
    "    '''\n",
    "    f - the ODE to solve (function)\n",
    "    t0 - initial time\n",
    "    n0 - vector of initial values of variables\n",
    "    tf - final time to integrate to\n",
    "    parameters - parameters passed into the ODEs\n",
    "    \n",
    "    This function numerically solves the ODE f, subject to initial conditions (t0,n0)\n",
    "    and integrates until tf is reached. \n",
    "    '''\n",
    "    # Pick a step size (leave this small)\n",
    "    h=0.01\n",
    "    # Initialize some empty Python lists to store the solution\n",
    "    t_solution = []\n",
    "    n_solution = []\n",
    "    t_solution.append(t0)\n",
    "    n_solution.append(n0)\n",
    "    # We'll keep stepping forward until we've reached x_final\n",
    "    while ( t_solution[-1]<tf ):\n",
    "        # take a step\n",
    "        t_next,n_next=forward_euler_step(t_solution[-1],n_solution[-1],f,h,parameters)\n",
    "        t_solution.append(t_next)\n",
    "        n_solution.append(n_next)\n",
    "    return np.array(t_solution), np.array(n_solution)"
   ]
  },
  {
   "cell_type": "code",
   "execution_count": 6,
   "metadata": {},
   "outputs": [],
   "source": [
    "### PARAMETER CHOICES\n",
    "r1,r2 = 1, 1\n",
    "K1,K2 = 10, 10\n",
    "alpha12, alpha21 = -1, -1 \n",
    "parameters = (r1,r2,K1,K2,alpha12,alpha21)\n",
    "\n",
    "### INITIAL CONDITIONS\n",
    "n1_initial = 1\n",
    "n2_initial = 1\n",
    "t0=0\n",
    "n0=np.array([n1_initial,n2_initial])\n",
    "\n",
    "### INTEGRATE\n",
    "tf=20\n",
    "t,n = ode_solve(f,t0,n0,tf,parameters)"
   ]
  },
  {
   "cell_type": "code",
   "execution_count": 7,
   "metadata": {},
   "outputs": [
    {
     "data": {
      "text/plain": [
       "(0.0, 461250515.2526002)"
      ]
     },
     "execution_count": 7,
     "metadata": {},
     "output_type": "execute_result"
    },
    {
     "data": {
      "image/png": "[encoded data removed]",
      "text/plain": [
       "<Figure size 432x288 with 1 Axes>"
      ]
     },
     "metadata": {
      "needs_background": "light"
     },
     "output_type": "display_data"
    }
   ],
   "source": [
    "# Set up the axes\n",
    "fig, ax = plt.subplots(nrows=1,ncols=1)\n",
    "# Plot the numerical solution\n",
    "ax.plot(t,n[:,0],\n",
    "        color='steelblue',label='$n_1$',lw=2)\n",
    "ax.plot(t,n[:,1],\n",
    "        color='k',ls='--',label='$n_2$',lw=2)\n",
    "\n",
    "# Make the plot attractive\n",
    "ax.set_xlabel('time (t)')\n",
    "ax.set_ylabel('population (n)')\n",
    "ax.legend(loc='best')\n",
    "ax.set_title('Logistic Growth')\n",
    "ax.set_xlim(left=0)\n",
    "ax.set_ylim(bottom=0)"
   ]
  },
  {
   "cell_type": "code",
   "execution_count": null,
   "metadata": {},
   "outputs": [],
   "source": []
  },
  {
   "cell_type": "code",
   "execution_count": null,
   "metadata": {},
   "outputs": [],
   "source": []
  }
 ],
 "metadata": {
  "kernelspec": {
   "display_name": "Python 3",
   "language": "python",
   "name": "python3"
  },
  "language_info": {
   "codemirror_mode": {
    "name": "ipython",
    "version": 3
   },
   "file_extension": ".py",
   "mimetype": "text/x-python",
   "name": "python",
   "nbconvert_exporter": "python",
   "pygments_lexer": "ipython3",
   "version": "3.8.5"
  }
 },
 "nbformat": 4,
 "nbformat_minor": 4
}
