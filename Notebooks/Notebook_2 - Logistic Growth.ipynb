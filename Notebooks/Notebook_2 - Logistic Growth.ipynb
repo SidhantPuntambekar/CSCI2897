{
 "cells": [
  {
   "cell_type": "markdown",
   "metadata": {},
   "source": [
    "# Notebook_2 - Logistic Growth\n",
    "\n"
   ]
  },
  {
   "cell_type": "markdown",
   "metadata": {},
   "source": [
    "### Import needed packages"
   ]
  },
  {
   "cell_type": "code",
   "execution_count": null,
   "metadata": {},
   "outputs": [],
   "source": [
    "%matplotlib inline\n",
    "import numpy as np\n",
    "import matplotlib.pyplot as plt\n",
    "# let's set things up so we have nice font sizes\n",
    "plt.rcParams.update({'font.size': 12})"
   ]
  },
  {
   "cell_type": "markdown",
   "metadata": {},
   "source": [
    "### Goals"
   ]
  },
  {
   "cell_type": "markdown",
   "metadata": {},
   "source": [
    "We want to explore numerical solutions to the Logistic Growth Equation\n",
    "$$\\frac{dn}{dt} = r_c n(t) \\left( 1- \\frac{n(t)}{K} \\right )$$\n",
    "with the initial condition\n",
    "$$n(0)=n_0 $$\n",
    "\n",
    "Note: we're going to use Euler's method:\n",
    "$$y_{n+1} = y_{n} + h f(x_n,y_n)$$\n",
    "$$x_{n+1} = x_{n} + h$$"
   ]
  },
  {
   "cell_type": "markdown",
   "metadata": {},
   "source": [
    "# Warmup: Vector Fields"
   ]
  },
  {
   "cell_type": "code",
   "execution_count": null,
   "metadata": {},
   "outputs": [],
   "source": [
    "# PARAMETERS AND INITIAL CONDITIONS\n",
    "K = 50 # Carrying Capacity K\n",
    "rc = 1 # Growth rate\n",
    "t_final = 20 # Total amount of time to show\n",
    "\n",
    "# VECTOR FIELD SETUP\n",
    "tvals = np.arange(0,20,1)\n",
    "nvals = np.arange(0,70,5)\n",
    "X,Y = np.meshgrid(tvals,nvals)\n",
    "u = 0\n",
    "v = rc*Y*(1-Y/K)\n",
    "\n",
    "# Plot\n",
    "fig, ax = plt.subplots(nrows=1,ncols=1)\n",
    "ax.quiver(X,Y,u,v)\n",
    "ax.plot([0,t_final],[K,K],'r--',label='K',zorder=1)"
   ]
  },
  {
   "cell_type": "markdown",
   "metadata": {},
   "source": [
    "# Question 1\n",
    "1. Can you complete the following code, by updating line 5 for the Logistic Growth Equation?"
   ]
  },
  {
   "cell_type": "code",
   "execution_count": null,
   "metadata": {},
   "outputs": [],
   "source": [
    "# This function takes in where we are \"now\" (t,nt) as well as a\n",
    "# step size h, and then takes a step in the right direction. \n",
    "# Can you update Line 5 for the Logistic Growth Equation? \n",
    "def forward_euler_step(t,nt,h):\n",
    "    n_next = nt # FIX THIS LINE\n",
    "    t_next = t + h\n",
    "    return t_next,n_next"
   ]
  },
  {
   "cell_type": "markdown",
   "metadata": {},
   "source": [
    "I wrote this code as a wrapper around the `forward_euler_step` function. If you pass it an intial t value `t0`, an initial n values `n0`, and a final t value `tf`, it will return an array of `t` and `n` values that solve the differential equation. "
   ]
  },
  {
   "cell_type": "code",
   "execution_count": null,
   "metadata": {},
   "outputs": [],
   "source": [
    "def ode_solve(t0,n0,tf):\n",
    "    # Let's initialize some empty Python lists to store the solution\n",
    "    t_solution = []\n",
    "    n_solution = []\n",
    "    # And let's put in the initial conditions: x=1 and y=1\n",
    "    # by appending them to the end of the lists.\n",
    "    t_solution.append(t0)\n",
    "    n_solution.append(n0)\n",
    "    # We'll keep stepping forward until we've reached x_final\n",
    "    while ( t_solution[-1]<tf ):\n",
    "        # take a step\n",
    "        t_next,n_next=forward_euler_step(t_solution[-1],n_solution[-1],h)\n",
    "        # take the new positions we just computed and put them \n",
    "        # at the end of the solution\n",
    "        t_solution.append(t_next)\n",
    "        n_solution.append(n_next)\n",
    "    return np.array(t_solution), np.array(n_solution)"
   ]
  },
  {
   "cell_type": "markdown",
   "metadata": {},
   "source": [
    "# Question 2\n",
    "2. Can you fill in the code below so that you choose parameters that you find interesting, and then plot your results?  (Don't forget to label your plot)"
   ]
  },
  {
   "cell_type": "code",
   "execution_count": null,
   "metadata": {},
   "outputs": [],
   "source": [
    "# Step size\n",
    "h = 1\n",
    "# Carrying Capacity K\n",
    "K = 1\n",
    "# Growth rate\n",
    "rc = 1\n",
    "# Initial Condition \n",
    "n0 = 1\n",
    "# Time to \"integrate\" forward\n",
    "t_final = 1\n",
    "\n",
    "# This line calls ode_solve. Should be fine as is!\n",
    "t,n = ode_solve(0,n0,t_final)\n",
    "\n",
    "fig, ax = plt.subplots(nrows=1,ncols=1)\n",
    "# Plot the numerical solution\n",
    "ax.plot(0,0,label='') #FIX ME\n",
    "\n",
    "# Make the plot attractive\n",
    "ax.set_xlabel('') #FIX ME\n",
    "ax.set_ylabel('') #FIX ME\n",
    "ax.legend(loc='best')\n",
    "ax.set_title('') #FIX ME\n"
   ]
  },
  {
   "cell_type": "markdown",
   "metadata": {},
   "source": [
    "# Question 3\n",
    "3. Can you take your plotting code and encapsulate it in a new function called `plot` ? Plot should have inputs `t` and `n`, and should return nothing. It should simply create a plot from the values of `t` and `n` given, including labels. \n",
    "\n",
    "\n",
    "Once you've done this, use your new code to explore various parameter settings.  What effects do `h`, `K`, `rc`, `n0` have? \n",
    "\n",
    "BONUS: can you find a way to plot the carrying capacity `K` on your plot in a red dashed line, by modifying your `plot` function?\n",
    "\n",
    "DOUBLE BONUS: how can you plot the carrying capacity *underneath* your numerical solution? "
   ]
  },
  {
   "cell_type": "code",
   "execution_count": null,
   "metadata": {},
   "outputs": [],
   "source": [
    "def plot(t,n):\n",
    "    '''your code here'''"
   ]
  },
  {
   "cell_type": "code",
   "execution_count": null,
   "metadata": {},
   "outputs": [],
   "source": []
  },
  {
   "cell_type": "code",
   "execution_count": null,
   "metadata": {},
   "outputs": [],
   "source": []
  },
  {
   "cell_type": "markdown",
   "metadata": {},
   "source": [
    "# Question 4: \n",
    "4. Reflect: what are some typical constraints on the values that `K` and `rc` can take? How does `K` relate to `n0`?"
   ]
  },
  {
   "cell_type": "code",
   "execution_count": null,
   "metadata": {},
   "outputs": [],
   "source": []
  }
 ],
 "metadata": {
  "kernelspec": {
   "display_name": "Python 3",
   "language": "python",
   "name": "python3"
  },
  "language_info": {
   "codemirror_mode": {
    "name": "ipython",
    "version": 3
   },
   "file_extension": ".py",
   "mimetype": "text/x-python",
   "name": "python",
   "nbconvert_exporter": "python",
   "pygments_lexer": "ipython3",
   "version": "3.7.4"
  }
 },
 "nbformat": 4,
 "nbformat_minor": 4
}