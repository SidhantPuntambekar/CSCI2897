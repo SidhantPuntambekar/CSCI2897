{
 "cells": [
  {
   "cell_type": "markdown",
   "metadata": {},
   "source": [
    "# Notebook_1 - Euler's Method\n",
    "\n",
    "Numerical solutions and Euler's method"
   ]
  },
  {
   "cell_type": "markdown",
   "metadata": {},
   "source": [
    "### Import needed packages"
   ]
  },
  {
   "cell_type": "code",
   "execution_count": null,
   "metadata": {},
   "outputs": [],
   "source": [
    "%matplotlib inline\n",
    "\n",
    "import numpy as np\n",
    "import matplotlib.pyplot as plt\n",
    "# let's set things up so we have nice font sizes\n",
    "plt.rcParams.update({'font.size': 12})"
   ]
  },
  {
   "cell_type": "markdown",
   "metadata": {},
   "source": [
    "### Goals"
   ]
  },
  {
   "cell_type": "markdown",
   "metadata": {},
   "source": [
    "We want to get a numerical solution to the ODE:\n",
    "$$y' = 2ty$$\n",
    "with the initial condition\n",
    "$$y(1)=1$$\n",
    "\n",
    "We're going to use Euler's method!"
   ]
  },
  {
   "cell_type": "markdown",
   "metadata": {},
   "source": [
    "## Euler's Method\n",
    "\n",
    "Euler's method says that the way to solve $y' = f(t,y)$\n",
    "\n",
    "It is given by two *update equations*.\n",
    "$$y_{n+1} = y_{n} + \\Delta t \\cdot f(t_n,y_n)$$\n",
    "$$t_{n+1} = t_{n} + \\Delta t$$\n",
    "\n",
    "Here, $n$ is the *index* that tracks how many steps we've taken, and $\\Delta t$ is the size of the step we take in team with each update. We will start with $y_0$ and $t_0$ given by our initial conditions, and update from there.\n",
    "\n",
    "By the way, we now can recognize that these so-called \"update equations\" are a *recursion*. "
   ]
  },
  {
   "cell_type": "code",
   "execution_count": null,
   "metadata": {},
   "outputs": [],
   "source": [
    "# This function takes in where we are \"now\" (tn,yn) as well as a\n",
    "# step size h, and then takes a step in the right direction. \n",
    "def forward_euler_step(tn,yn,delta_t):\n",
    "    ynext = # ??????\n",
    "    tnext = # ??????\n",
    "    return tnext,ynext"
   ]
  },
  {
   "cell_type": "code",
   "execution_count": null,
   "metadata": {},
   "outputs": [],
   "source": [
    "# This function implements the RHS of our differential equation. \n",
    "# It will get called *inside* the forward_euler_step function!\n",
    "def f(t,y):\n",
    "    # ??????\n",
    "    return 0"
   ]
  },
  {
   "cell_type": "code",
   "execution_count": null,
   "metadata": {},
   "outputs": [],
   "source": [
    "# Let's start by choosing a step size\n",
    "delta_t = 0.1\n",
    "\n",
    "# Let's also decide on a final value for t. \n",
    "t_final = 3\n",
    "\n",
    "# Let's initialize some empty Python lists to store the solution\n",
    "t_solution = []\n",
    "y_solution = []\n",
    "\n",
    "# And let's put in the initial conditions: t=1 and y=1\n",
    "# by appending them to the end of the lists.\n",
    "t0 = # ??????\n",
    "y0 = # ??????\n",
    "t_solution.append(t0)\n",
    "y_solution.append(y0)\n",
    "\n",
    "# We'll keep stepping forward until we've reached t_final\n",
    "while ( t_solution[-1]<t_final ):\n",
    "    t_next,y_next = # ??????\n",
    "    t_solution.append(t_next)\n",
    "    y_solution.append(y_next)"
   ]
  },
  {
   "cell_type": "markdown",
   "metadata": {},
   "source": [
    "For this problem, we actually happen to know the exact solution, which is $$y(t) = e^{t^2-1}$$\n",
    "We can define this as a function:"
   ]
  },
  {
   "cell_type": "code",
   "execution_count": null,
   "metadata": {},
   "outputs": [],
   "source": [
    "def true_solution(t):\n",
    "    # e^(t^2-1), the true solution\n",
    "    return np.exp(np.array(t)**2-1)"
   ]
  },
  {
   "cell_type": "markdown",
   "metadata": {},
   "source": [
    "And we can get the true solution's `y` values for each of the `t` values that are in our numerical solution. "
   ]
  },
  {
   "cell_type": "code",
   "execution_count": null,
   "metadata": {},
   "outputs": [],
   "source": [
    "y_true = true_solution(t_solution)"
   ]
  },
  {
   "cell_type": "markdown",
   "metadata": {},
   "source": [
    "### Plot"
   ]
  },
  {
   "cell_type": "code",
   "execution_count": null,
   "metadata": {},
   "outputs": [],
   "source": [
    "# Set up the axes\n",
    "fig, ax = plt.subplots(nrows=1,ncols=1)\n",
    "# Plot the numerical solution\n",
    "ax.plot(t_solution,y_solution,label='numerical soln')\n",
    "# Plot the true solution\n",
    "ax.plot(t_solution,y_true,label='true soln')\n",
    "\n",
    "# Make the plot attractive\n",
    "ax.set_xlabel('x')\n",
    "ax.set_ylabel('y')\n",
    "ax.legend(loc='best')\n",
    "ax.set_title('numerical solution example')"
   ]
  },
  {
   "cell_type": "markdown",
   "metadata": {},
   "source": [
    "# Bonus"
   ]
  },
  {
   "cell_type": "markdown",
   "metadata": {},
   "source": [
    "As we make the step size smaller and smaller, we'll typically get a better and better answer.  Notice how above, there's quite the gap between the numerical solution and the true solution? \n",
    "\n",
    "Try repeating the code above, but *drop the $\\Delta t$ to 0.01*.  What do you observe?"
   ]
  },
  {
   "cell_type": "code",
   "execution_count": null,
   "metadata": {},
   "outputs": [],
   "source": []
  }
 ],
 "metadata": {
  "kernelspec": {
   "display_name": "Python 3",
   "language": "python",
   "name": "python3"
  },
  "language_info": {
   "codemirror_mode": {
    "name": "ipython",
    "version": 3
   },
   "file_extension": ".py",
   "mimetype": "text/x-python",
   "name": "python",
   "nbconvert_exporter": "python",
   "pygments_lexer": "ipython3",
   "version": "3.7.4"
  }
 },
 "nbformat": 4,
 "nbformat_minor": 4
}
